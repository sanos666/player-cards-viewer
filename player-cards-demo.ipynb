{
 "cells": [
  {
   "cell_type": "code",
   "execution_count": null,
   "id": "6bc4a8fc-eb1b-47c0-b9fa-804cc16edf6d",
   "metadata": {},
   "outputs": [],
   "source": []
  },
  {
   "cell_type": "code",
   "execution_count": null,
   "id": "3ede515b-2733-4d1a-89b9-4c542d2a629f",
   "metadata": {},
   "outputs": [],
   "source": []
  },
  {
   "cell_type": "code",
   "execution_count": null,
   "id": "90c0ce67-3e38-4958-8e17-9108015f4218",
   "metadata": {},
   "outputs": [],
   "source": []
  },
  {
   "cell_type": "code",
   "execution_count": null,
   "id": "08eb906d-1106-4371-a5c1-cab8368293e2",
   "metadata": {},
   "outputs": [],
   "source": []
  },
  {
   "cell_type": "code",
   "execution_count": 1,
   "id": "8c4314f7-e70a-4749-adec-3f4f46b29cb0",
   "metadata": {},
   "outputs": [
    {
     "name": "stdout",
     "output_type": "stream",
     "text": [
      "Player: John Doe (#23)\n",
      "Points: 250\n",
      "Rebounds: 120\n",
      "Assists: 80\n",
      "Average Points Per Game: 25.0\n",
      "Player Efficiency Rating: 150.0\n"
     ]
    }
   ],
   "source": [
    "class PlayerCard:\n",
    "    def __init__(self, name, jersey_number):\n",
    "        self.name = name\n",
    "        self.jersey_number = jersey_number\n",
    "        self.stats = {\n",
    "            'points': 0,\n",
    "            'rebounds': 0,\n",
    "            'assists': 0,\n",
    "        }\n",
    "\n",
    "    def update_stats(self, points, rebounds, assists):\n",
    "        self.stats['points'] = points\n",
    "        self.stats['rebounds'] = rebounds\n",
    "        self.stats['assists'] = assists\n",
    "\n",
    "    def calculate_average_points_per_game(self, games_played):\n",
    "        if games_played == 0:\n",
    "            return 0\n",
    "        return self.stats['points'] / games_played\n",
    "\n",
    "    def calculate_player_efficiency_rating(self):\n",
    "        # Customize this calculation based on your needs\n",
    "        return (self.stats['points'] + self.stats['rebounds'] + self.stats['assists']) / 3\n",
    "\n",
    "    def display_card(self):\n",
    "        print(f\"Player: {self.name} (#{self.jersey_number})\")\n",
    "        print(f\"Points: {self.stats['points']}\")\n",
    "        print(f\"Rebounds: {self.stats['rebounds']}\")\n",
    "        print(f\"Assists: {self.stats['assists']}\")\n",
    "        print(f\"Average Points Per Game: {self.calculate_average_points_per_game(10)}\")  # You can specify the number of games played\n",
    "        print(f\"Player Efficiency Rating: {self.calculate_player_efficiency_rating()}\")\n",
    "\n",
    "# Example usage:\n",
    "player1 = PlayerCard(\"John Doe\", 23)\n",
    "player1.update_stats(250, 120, 80)\n",
    "player1.display_card()"
   ]
  },
  {
   "cell_type": "code",
   "execution_count": 6,
   "id": "19dc3154-d52b-4453-89a4-133e5b6c8dad",
   "metadata": {},
   "outputs": [
    {
     "data": {
      "application/vnd.jupyter.widget-view+json": {
       "model_id": "c07f822f028e479ea14e200f9bb12576",
       "version_major": 2,
       "version_minor": 0
      },
      "text/plain": [
       "VBox(children=(Label(value='Player: John Doe (#23)'), Label(value='Points: 250'), Label(value='Rebounds: 120')…"
      ]
     },
     "metadata": {},
     "output_type": "display_data"
    }
   ],
   "source": [
    "import ipywidgets as widgets\n",
    "from IPython.display import display\n",
    "\n",
    "class PlayerCardWidget:\n",
    "    def __init__(self, player_card):\n",
    "        self.player_card = player_card\n",
    "\n",
    "        # Create labels to display player stats\n",
    "        self.name_label = widgets.Label(value=f\"Player: {player_card.name} (#{player_card.jersey_number})\")\n",
    "        self.points_label = widgets.Label(value=f\"Points: {player_card.stats['points']}\")\n",
    "        self.rebounds_label = widgets.Label(value=f\"Rebounds: {player_card.stats['rebounds']}\")\n",
    "        self.assists_label = widgets.Label(value=f\"Assists: {player_card.stats['assists']}\")\n",
    "        self.avg_ppg_label = widgets.Label(value=f\"Average Points Per Game: {player_card.calculate_average_points_per_game(10)}\")\n",
    "        self.per_label = widgets.Label(value=f\"Player Efficiency Rating: {player_card.calculate_player_efficiency_rating()}\")\n",
    "\n",
    "        # Create a VBox layout to arrange the labels vertically\n",
    "        self.layout = widgets.VBox([\n",
    "            self.name_label,\n",
    "            self.points_label,\n",
    "            self.rebounds_label,\n",
    "            self.assists_label,\n",
    "            self.avg_ppg_label,\n",
    "            self.per_label\n",
    "        ])\n",
    "\n",
    "    def display(self):\n",
    "        display(self.layout)\n",
    "\n",
    "# Example usage:\n",
    "player1 = PlayerCard(\"John Doe\", 23)\n",
    "player1.update_stats(250, 120, 80)\n",
    "\n",
    "player_widget = PlayerCardWidget(player1)\n",
    "player_widget.display()\n"
   ]
  },
  {
   "cell_type": "code",
   "execution_count": 5,
   "id": "2b8c3132-868d-4505-8199-76f05d54aa47",
   "metadata": {},
   "outputs": [
    {
     "data": {
      "application/vnd.jupyter.widget-view+json": {
       "model_id": "7c7364f6135c414985ffad29a146522a",
       "version_major": 2,
       "version_minor": 0
      },
      "text/plain": [
       "Label(value='AAA')"
      ]
     },
     "metadata": {},
     "output_type": "display_data"
    }
   ],
   "source": [
    "tmp = widgets.Label(\"AAA\")\n",
    "display(tmp)"
   ]
  },
  {
   "cell_type": "code",
   "execution_count": null,
   "id": "20e47ebe-92d4-4cbd-a6d4-d87bfd120cbd",
   "metadata": {},
   "outputs": [],
   "source": []
  },
  {
   "cell_type": "code",
   "execution_count": null,
   "id": "3d74d901-ba3d-4856-b881-6312a8af305a",
   "metadata": {},
   "outputs": [],
   "source": []
  },
  {
   "cell_type": "code",
   "execution_count": null,
   "id": "82e7b9f5-16bd-43fd-8b02-b425d9d66195",
   "metadata": {},
   "outputs": [],
   "source": []
  }
 ],
 "metadata": {
  "kernelspec": {
   "display_name": "Python 3 (ipykernel)",
   "language": "python",
   "name": "python3"
  },
  "language_info": {
   "codemirror_mode": {
    "name": "ipython",
    "version": 3
   },
   "file_extension": ".py",
   "mimetype": "text/x-python",
   "name": "python",
   "nbconvert_exporter": "python",
   "pygments_lexer": "ipython3",
   "version": "3.10.12"
  }
 },
 "nbformat": 4,
 "nbformat_minor": 5
}
